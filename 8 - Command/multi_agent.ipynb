{
 "cells": [
  {
   "cell_type": "code",
   "execution_count": 1,
   "metadata": {},
   "outputs": [],
   "source": [
    "from typing import Literal\n",
    "\n",
    "from langchain_openai import OpenAI, ChatOpenAI\n",
    "from langchain_core.tools import tool\n",
    "from langgraph.graph import END, START, StateGraph, MessagesState \n",
    "from langgraph.prebuilt import ToolNode\n",
    "from langgraph.types import Command \n",
    "\n"
   ]
  },
  {
   "cell_type": "code",
   "execution_count": 2,
   "metadata": {},
   "outputs": [],
   "source": [
    "@tool\n",
    "def search(query: str):\n",
    "    \"\"\"Call to surt the web.\"\"\"\n",
    "    if \"sf\" in query.lower() or \"san francisco\" in query.lower():\n",
    "        return \"It's 60 degrees and foggy.\"\n",
    "    return \"It's 90 degrees and sunny\"\n",
    "\n",
    "tools = [search]\n",
    "tool_node = ToolNode(tools)"
   ]
  },
  {
   "cell_type": "code",
   "execution_count": 3,
   "metadata": {},
   "outputs": [],
   "source": [
    "model = ChatOpenAI(model=\"gpt-4\", temperature=0).bind_tools(tools)"
   ]
  },
  {
   "cell_type": "code",
   "execution_count": 4,
   "metadata": {},
   "outputs": [],
   "source": [
    "def call_model(state: MessagesState) -> Command[Literal['tools', END]]:\n",
    "    messages = state['messages']\n",
    "    response = model.invoke(messages)\n",
    "    if len(response.tool_calls) > 0:\n",
    "        next_node = \"tools\"\n",
    "    else:\n",
    "        next_node = END\n",
    "    return Command(goto=next_node, update={\"messages\": [response]})"
   ]
  },
  {
   "cell_type": "code",
   "execution_count": 5,
   "metadata": {},
   "outputs": [],
   "source": [
    "workflow = StateGraph(MessagesState)\n",
    "\n",
    "workflow.add_node(\"agent\", call_model)\n",
    "workflow.add_node(\"tools\", tool_node)\n",
    "workflow.add_edge(START, \"agent\")\n",
    "workflow.add_edge(\"tools\", \"agent\")\n",
    "app = workflow.compile()"
   ]
  },
  {
   "cell_type": "code",
   "execution_count": 6,
   "metadata": {},
   "outputs": [
    {
     "name": "stdout",
     "output_type": "stream",
     "text": [
      "\u001b[36;1m\u001b[1;3m[-1:checkpoint]\u001b[0m \u001b[1mState at the end of step -1:\n",
      "\u001b[0m{'messages': []}\n",
      "\u001b[36;1m\u001b[1;3m[0:tasks]\u001b[0m \u001b[1mStarting 1 task for step 0:\n",
      "\u001b[0m- \u001b[32;1m\u001b[1;3m__start__\u001b[0m -> {'messages': [{'content': 'What is the weather in sf', 'role': 'user'}]}\n",
      "\u001b[36;1m\u001b[1;3m[0:writes]\u001b[0m \u001b[1mFinished step 0 with writes to 1 channel:\n",
      "\u001b[0m- \u001b[33;1m\u001b[1;3mmessages\u001b[0m -> [{'content': 'What is the weather in sf', 'role': 'user'}]\n",
      "\u001b[36;1m\u001b[1;3m[0:checkpoint]\u001b[0m \u001b[1mState at the end of step 0:\n",
      "\u001b[0m{'messages': [HumanMessage(content='What is the weather in sf', additional_kwargs={}, response_metadata={}, id='e3736aa4-7d8a-4e6b-b91e-bdd8e01fb5be')]}\n",
      "\u001b[36;1m\u001b[1;3m[1:tasks]\u001b[0m \u001b[1mStarting 1 task for step 1:\n",
      "\u001b[0m- \u001b[32;1m\u001b[1;3magent\u001b[0m -> {'messages': [HumanMessage(content='What is the weather in sf', additional_kwargs={}, response_metadata={}, id='e3736aa4-7d8a-4e6b-b91e-bdd8e01fb5be')]}\n",
      "\u001b[36;1m\u001b[1;3m[1:writes]\u001b[0m \u001b[1mFinished step 1 with writes to 1 channel:\n",
      "\u001b[0m- \u001b[33;1m\u001b[1;3mmessages\u001b[0m -> [AIMessage(content='', additional_kwargs={'tool_calls': [{'id': 'call_7ZyIiOfmU8a6MzOICkrNXCAb', 'function': {'arguments': '{\\n  \"query\": \"current weather in San Francisco\"\\n}', 'name': 'search'}, 'type': 'function'}], 'refusal': None}, response_metadata={'token_usage': {'completion_tokens': 19, 'prompt_tokens': 51, 'total_tokens': 70, 'completion_tokens_details': {'accepted_prediction_tokens': 0, 'audio_tokens': 0, 'reasoning_tokens': 0, 'rejected_prediction_tokens': 0}, 'prompt_tokens_details': {'audio_tokens': 0, 'cached_tokens': 0}}, 'model_name': 'gpt-4-0613', 'system_fingerprint': None, 'finish_reason': 'tool_calls', 'logprobs': None}, id='run-d385dd5e-382b-46b1-b186-bcc5cc3e23cc-0', tool_calls=[{'name': 'search', 'args': {'query': 'current weather in San Francisco'}, 'id': 'call_7ZyIiOfmU8a6MzOICkrNXCAb', 'type': 'tool_call'}], usage_metadata={'input_tokens': 51, 'output_tokens': 19, 'total_tokens': 70, 'input_token_details': {'audio': 0, 'cache_read': 0}, 'output_token_details': {'audio': 0, 'reasoning': 0}})]\n",
      "\u001b[36;1m\u001b[1;3m[1:checkpoint]\u001b[0m \u001b[1mState at the end of step 1:\n",
      "\u001b[0m{'messages': [HumanMessage(content='What is the weather in sf', additional_kwargs={}, response_metadata={}, id='e3736aa4-7d8a-4e6b-b91e-bdd8e01fb5be'),\n",
      "              AIMessage(content='', additional_kwargs={'tool_calls': [{'id': 'call_7ZyIiOfmU8a6MzOICkrNXCAb', 'function': {'arguments': '{\\n  \"query\": \"current weather in San Francisco\"\\n}', 'name': 'search'}, 'type': 'function'}], 'refusal': None}, response_metadata={'token_usage': {'completion_tokens': 19, 'prompt_tokens': 51, 'total_tokens': 70, 'completion_tokens_details': {'accepted_prediction_tokens': 0, 'audio_tokens': 0, 'reasoning_tokens': 0, 'rejected_prediction_tokens': 0}, 'prompt_tokens_details': {'audio_tokens': 0, 'cached_tokens': 0}}, 'model_name': 'gpt-4-0613', 'system_fingerprint': None, 'finish_reason': 'tool_calls', 'logprobs': None}, id='run-d385dd5e-382b-46b1-b186-bcc5cc3e23cc-0', tool_calls=[{'name': 'search', 'args': {'query': 'current weather in San Francisco'}, 'id': 'call_7ZyIiOfmU8a6MzOICkrNXCAb', 'type': 'tool_call'}], usage_metadata={'input_tokens': 51, 'output_tokens': 19, 'total_tokens': 70, 'input_token_details': {'audio': 0, 'cache_read': 0}, 'output_token_details': {'audio': 0, 'reasoning': 0}})]}\n",
      "\u001b[36;1m\u001b[1;3m[2:tasks]\u001b[0m \u001b[1mStarting 1 task for step 2:\n",
      "\u001b[0m- \u001b[32;1m\u001b[1;3mtools\u001b[0m -> {'messages': [HumanMessage(content='What is the weather in sf', additional_kwargs={}, response_metadata={}, id='e3736aa4-7d8a-4e6b-b91e-bdd8e01fb5be'),\n",
      "              AIMessage(content='', additional_kwargs={'tool_calls': [{'id': 'call_7ZyIiOfmU8a6MzOICkrNXCAb', 'function': {'arguments': '{\\n  \"query\": \"current weather in San Francisco\"\\n}', 'name': 'search'}, 'type': 'function'}], 'refusal': None}, response_metadata={'token_usage': {'completion_tokens': 19, 'prompt_tokens': 51, 'total_tokens': 70, 'completion_tokens_details': {'accepted_prediction_tokens': 0, 'audio_tokens': 0, 'reasoning_tokens': 0, 'rejected_prediction_tokens': 0}, 'prompt_tokens_details': {'audio_tokens': 0, 'cached_tokens': 0}}, 'model_name': 'gpt-4-0613', 'system_fingerprint': None, 'finish_reason': 'tool_calls', 'logprobs': None}, id='run-d385dd5e-382b-46b1-b186-bcc5cc3e23cc-0', tool_calls=[{'name': 'search', 'args': {'query': 'current weather in San Francisco'}, 'id': 'call_7ZyIiOfmU8a6MzOICkrNXCAb', 'type': 'tool_call'}], usage_metadata={'input_tokens': 51, 'output_tokens': 19, 'total_tokens': 70, 'input_token_details': {'audio': 0, 'cache_read': 0}, 'output_token_details': {'audio': 0, 'reasoning': 0}})]}\n",
      "\u001b[36;1m\u001b[1;3m[2:writes]\u001b[0m \u001b[1mFinished step 2 with writes to 1 channel:\n",
      "\u001b[0m- \u001b[33;1m\u001b[1;3mmessages\u001b[0m -> [ToolMessage(content=\"It's 60 degrees and foggy.\", name='search', tool_call_id='call_7ZyIiOfmU8a6MzOICkrNXCAb')]\n",
      "\u001b[36;1m\u001b[1;3m[2:checkpoint]\u001b[0m \u001b[1mState at the end of step 2:\n",
      "\u001b[0m{'messages': [HumanMessage(content='What is the weather in sf', additional_kwargs={}, response_metadata={}, id='e3736aa4-7d8a-4e6b-b91e-bdd8e01fb5be'),\n",
      "              AIMessage(content='', additional_kwargs={'tool_calls': [{'id': 'call_7ZyIiOfmU8a6MzOICkrNXCAb', 'function': {'arguments': '{\\n  \"query\": \"current weather in San Francisco\"\\n}', 'name': 'search'}, 'type': 'function'}], 'refusal': None}, response_metadata={'token_usage': {'completion_tokens': 19, 'prompt_tokens': 51, 'total_tokens': 70, 'completion_tokens_details': {'accepted_prediction_tokens': 0, 'audio_tokens': 0, 'reasoning_tokens': 0, 'rejected_prediction_tokens': 0}, 'prompt_tokens_details': {'audio_tokens': 0, 'cached_tokens': 0}}, 'model_name': 'gpt-4-0613', 'system_fingerprint': None, 'finish_reason': 'tool_calls', 'logprobs': None}, id='run-d385dd5e-382b-46b1-b186-bcc5cc3e23cc-0', tool_calls=[{'name': 'search', 'args': {'query': 'current weather in San Francisco'}, 'id': 'call_7ZyIiOfmU8a6MzOICkrNXCAb', 'type': 'tool_call'}], usage_metadata={'input_tokens': 51, 'output_tokens': 19, 'total_tokens': 70, 'input_token_details': {'audio': 0, 'cache_read': 0}, 'output_token_details': {'audio': 0, 'reasoning': 0}}),\n",
      "              ToolMessage(content=\"It's 60 degrees and foggy.\", name='search', id='a3bdb725-c54e-4fb4-a163-a35a21a2f85a', tool_call_id='call_7ZyIiOfmU8a6MzOICkrNXCAb')]}\n",
      "\u001b[36;1m\u001b[1;3m[3:tasks]\u001b[0m \u001b[1mStarting 1 task for step 3:\n",
      "\u001b[0m- \u001b[32;1m\u001b[1;3magent\u001b[0m -> {'messages': [HumanMessage(content='What is the weather in sf', additional_kwargs={}, response_metadata={}, id='e3736aa4-7d8a-4e6b-b91e-bdd8e01fb5be'),\n",
      "              AIMessage(content='', additional_kwargs={'tool_calls': [{'id': 'call_7ZyIiOfmU8a6MzOICkrNXCAb', 'function': {'arguments': '{\\n  \"query\": \"current weather in San Francisco\"\\n}', 'name': 'search'}, 'type': 'function'}], 'refusal': None}, response_metadata={'token_usage': {'completion_tokens': 19, 'prompt_tokens': 51, 'total_tokens': 70, 'completion_tokens_details': {'accepted_prediction_tokens': 0, 'audio_tokens': 0, 'reasoning_tokens': 0, 'rejected_prediction_tokens': 0}, 'prompt_tokens_details': {'audio_tokens': 0, 'cached_tokens': 0}}, 'model_name': 'gpt-4-0613', 'system_fingerprint': None, 'finish_reason': 'tool_calls', 'logprobs': None}, id='run-d385dd5e-382b-46b1-b186-bcc5cc3e23cc-0', tool_calls=[{'name': 'search', 'args': {'query': 'current weather in San Francisco'}, 'id': 'call_7ZyIiOfmU8a6MzOICkrNXCAb', 'type': 'tool_call'}], usage_metadata={'input_tokens': 51, 'output_tokens': 19, 'total_tokens': 70, 'input_token_details': {'audio': 0, 'cache_read': 0}, 'output_token_details': {'audio': 0, 'reasoning': 0}}),\n",
      "              ToolMessage(content=\"It's 60 degrees and foggy.\", name='search', id='a3bdb725-c54e-4fb4-a163-a35a21a2f85a', tool_call_id='call_7ZyIiOfmU8a6MzOICkrNXCAb')]}\n",
      "\u001b[36;1m\u001b[1;3m[3:writes]\u001b[0m \u001b[1mFinished step 3 with writes to 1 channel:\n",
      "\u001b[0m- \u001b[33;1m\u001b[1;3mmessages\u001b[0m -> [AIMessage(content='The current weather in San Francisco is 60 degrees and foggy.', additional_kwargs={'refusal': None}, response_metadata={'token_usage': {'completion_tokens': 16, 'prompt_tokens': 82, 'total_tokens': 98, 'completion_tokens_details': {'accepted_prediction_tokens': 0, 'audio_tokens': 0, 'reasoning_tokens': 0, 'rejected_prediction_tokens': 0}, 'prompt_tokens_details': {'audio_tokens': 0, 'cached_tokens': 0}}, 'model_name': 'gpt-4-0613', 'system_fingerprint': None, 'finish_reason': 'stop', 'logprobs': None}, id='run-c1484547-f9ec-4c32-b668-be8255692c05-0', usage_metadata={'input_tokens': 82, 'output_tokens': 16, 'total_tokens': 98, 'input_token_details': {'audio': 0, 'cache_read': 0}, 'output_token_details': {'audio': 0, 'reasoning': 0}})]\n",
      "\u001b[36;1m\u001b[1;3m[3:checkpoint]\u001b[0m \u001b[1mState at the end of step 3:\n",
      "\u001b[0m{'messages': [HumanMessage(content='What is the weather in sf', additional_kwargs={}, response_metadata={}, id='e3736aa4-7d8a-4e6b-b91e-bdd8e01fb5be'),\n",
      "              AIMessage(content='', additional_kwargs={'tool_calls': [{'id': 'call_7ZyIiOfmU8a6MzOICkrNXCAb', 'function': {'arguments': '{\\n  \"query\": \"current weather in San Francisco\"\\n}', 'name': 'search'}, 'type': 'function'}], 'refusal': None}, response_metadata={'token_usage': {'completion_tokens': 19, 'prompt_tokens': 51, 'total_tokens': 70, 'completion_tokens_details': {'accepted_prediction_tokens': 0, 'audio_tokens': 0, 'reasoning_tokens': 0, 'rejected_prediction_tokens': 0}, 'prompt_tokens_details': {'audio_tokens': 0, 'cached_tokens': 0}}, 'model_name': 'gpt-4-0613', 'system_fingerprint': None, 'finish_reason': 'tool_calls', 'logprobs': None}, id='run-d385dd5e-382b-46b1-b186-bcc5cc3e23cc-0', tool_calls=[{'name': 'search', 'args': {'query': 'current weather in San Francisco'}, 'id': 'call_7ZyIiOfmU8a6MzOICkrNXCAb', 'type': 'tool_call'}], usage_metadata={'input_tokens': 51, 'output_tokens': 19, 'total_tokens': 70, 'input_token_details': {'audio': 0, 'cache_read': 0}, 'output_token_details': {'audio': 0, 'reasoning': 0}}),\n",
      "              ToolMessage(content=\"It's 60 degrees and foggy.\", name='search', id='a3bdb725-c54e-4fb4-a163-a35a21a2f85a', tool_call_id='call_7ZyIiOfmU8a6MzOICkrNXCAb'),\n",
      "              AIMessage(content='The current weather in San Francisco is 60 degrees and foggy.', additional_kwargs={'refusal': None}, response_metadata={'token_usage': {'completion_tokens': 16, 'prompt_tokens': 82, 'total_tokens': 98, 'completion_tokens_details': {'accepted_prediction_tokens': 0, 'audio_tokens': 0, 'reasoning_tokens': 0, 'rejected_prediction_tokens': 0}, 'prompt_tokens_details': {'audio_tokens': 0, 'cached_tokens': 0}}, 'model_name': 'gpt-4-0613', 'system_fingerprint': None, 'finish_reason': 'stop', 'logprobs': None}, id='run-c1484547-f9ec-4c32-b668-be8255692c05-0', usage_metadata={'input_tokens': 82, 'output_tokens': 16, 'total_tokens': 98, 'input_token_details': {'audio': 0, 'cache_read': 0}, 'output_token_details': {'audio': 0, 'reasoning': 0}})]}\n"
     ]
    }
   ],
   "source": [
    "response = app.invoke(\n",
    "    {\"messages\": [{\"role\": \"user\", \"content\": \"What is the weather in sf\"}]},\n",
    "    debug=True\n",
    ")"
   ]
  },
  {
   "cell_type": "code",
   "execution_count": 7,
   "metadata": {},
   "outputs": [],
   "source": [
    "def transfer_to_weather_agent():\n",
    "    \"\"\"Call this to transfer to the weather agent.\"\"\"\n",
    "\n",
    "tools = [transfer_to_weather_agent]\n",
    "main_model = ChatOpenAI(model=\"gpt-4\", temperature=0).bind_tools(tools)"
   ]
  },
  {
   "cell_type": "code",
   "execution_count": null,
   "metadata": {},
   "outputs": [],
   "source": [
    "def call_model(state: MessagesState) -> Command[Literal['weather_agent', END]]:\n",
    "    messages = state['messages']\n",
    "    response = main_model.invoke(messages)\n",
    "    if len(response.tool_calls) > 0:\n",
    "        return Command(goto=\"weather_agent\")\n",
    "    else:\n",
    "        return Command(goto=END, update={\"messages\": [response]})"
   ]
  }
 ],
 "metadata": {
  "kernelspec": {
   "display_name": "myenv",
   "language": "python",
   "name": "python3"
  },
  "language_info": {
   "codemirror_mode": {
    "name": "ipython",
    "version": 3
   },
   "file_extension": ".py",
   "mimetype": "text/x-python",
   "name": "python",
   "nbconvert_exporter": "python",
   "pygments_lexer": "ipython3",
   "version": "3.12.9"
  }
 },
 "nbformat": 4,
 "nbformat_minor": 2
}
