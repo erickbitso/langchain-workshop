{
 "cells": [
  {
   "cell_type": "code",
   "execution_count": 4,
   "metadata": {},
   "outputs": [],
   "source": [
    "from langchain_ollama.llms import OllamaLLM\n",
    "from langchain_core.prompts import ChatPromptTemplate\n",
    "from langchain_core.output_parsers import StrOutputParser\n",
    "\n",
    "\n",
    "llm = OllamaLLM(model=\"llama3.2\",\n",
    "                temperature=0,\n",
    "                max_new_tokens=512)"
   ]
  },
  {
   "cell_type": "code",
   "execution_count": 5,
   "metadata": {},
   "outputs": [
    {
     "data": {
      "text/plain": [
       "'Here\\'s a possible 30-second jingle for Bitcoin:\\n\\n(Upbeat, catchy tune)\\n\"Bitcoin, Bitcoin, the future is now\\nA digital dream that\\'s breaking through\\nDecentralized and free from control\\nThe world\\'s first cryptocurrency, taking its toll\\n\\nInvest in the future, invest with pride\\nIn Bitcoin, where the money will reside\\nFast and secure, it\\'s the way to go\\nBitcoin, Bitcoin, let your wealth grow!\\n\\n(Short instrumental break)\\n\"Bitcoin, Bitcoin, the power is yours\\nA new era of finance, that\\'s what it\\'s for\\nTrust in the blockchain, trust in the code\\nBitcoin, Bitcoin, it\\'s time to explode!\"\\n\\nThis jingle aims to capture the essence of Bitcoin as a revolutionary and exciting investment opportunity. The lyrics highlight its decentralized nature, security, and potential for growth, while also emphasizing the importance of investing in the future. Feel free to modify or adjust them to fit your needs!'"
      ]
     },
     "execution_count": 5,
     "metadata": {},
     "output_type": "execute_result"
    }
   ],
   "source": [
    "output_parser = StrOutputParser()\n",
    "\n",
    "prompt = ChatPromptTemplate.from_template(\"Write me the lyrics for a 30 second jingle about {product}\")\n",
    "\n",
    "\n",
    "chain = prompt | llm | output_parser\n",
    "\n",
    "chain.invoke({\"product\": \"Bitcoin\"})"
   ]
  },
  {
   "cell_type": "code",
   "execution_count": 6,
   "metadata": {},
   "outputs": [
    {
     "name": "stdout",
     "output_type": "stream",
     "text": [
      "Here's a possible 30-second jingle for Bitcoin:\n",
      "\n",
      "(Upbeat, catchy tune)\n",
      "\"Bitcoin, Bitcoin, the future is now\n",
      "A digital dream that's breaking through\n",
      "Decentralized and free from control\n",
      "The world's first cryptocurrency, taking its toll\n",
      "\n",
      "Invest in the future, invest with pride\n",
      "In Bitcoin, where the money will reside\n",
      "Fast and secure, it's the way to go\n",
      "Bitcoin, Bitcoin, let your wealth grow!\n",
      "\n",
      "(Short instrumental break)\n",
      "\"Bitcoin, Bitcoin, the power is yours\n",
      "A new era of finance, that's what it's for\n",
      "Trust in the blockchain, trust in the code\n",
      "Bitcoin, Bitcoin, it's time to explode!\"\n",
      "\n",
      "This jingle aims to capture the essence of Bitcoin as a revolutionary and exciting investment opportunity. The lyrics highlight its decentralized nature, security, and potential for growth, while also emphasizing the importance of investing in the future. Feel free to modify or adjust them to fit your needs!"
     ]
    }
   ],
   "source": [
    "\n",
    "for chunk in chain.stream({\"product\": \"Bitcoin\"}):\n",
    "    print(chunk, end=\"\", flush=True)"
   ]
  }
 ],
 "metadata": {
  "kernelspec": {
   "display_name": "myenv",
   "language": "python",
   "name": "python3"
  },
  "language_info": {
   "codemirror_mode": {
    "name": "ipython",
    "version": 3
   },
   "file_extension": ".py",
   "mimetype": "text/x-python",
   "name": "python",
   "nbconvert_exporter": "python",
   "pygments_lexer": "ipython3",
   "version": "3.12.9"
  }
 },
 "nbformat": 4,
 "nbformat_minor": 2
}
