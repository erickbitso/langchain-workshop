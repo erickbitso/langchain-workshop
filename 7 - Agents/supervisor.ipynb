{
 "cells": [
  {
   "cell_type": "code",
   "execution_count": 1,
   "metadata": {},
   "outputs": [],
   "source": [
    "from langchain_openai import ChatOpenAI\n",
    "from langgraph_supervisor import create_supervisor\n",
    "from langgraph.prebuilt import create_react_agent \n",
    "import os\n",
    "import getpass\n",
    "\n",
    "model = ChatOpenAI(model=\"gpt-4o\")\n",
    "\n",
    "os.environ[\"LANGSMITH_TRACING\"] = \"true\"\n",
    "if not os.environ.get(\"LANGSMITH_API_KEY\"):\n",
    "  os.environ[\"LANGSMITH_API_KEY\"] = getpass.getpass(\"Enter API key for Langsmith: \")\n",
    "if not os.environ.get(\"OPENAI_API_KEY\"):\n",
    "  os.environ[\"OPENAI_API_KEY\"] = getpass.getpass(\"Enter API key for OpenAI: \")"
   ]
  },
  {
   "cell_type": "code",
   "execution_count": 2,
   "metadata": {},
   "outputs": [],
   "source": [
    "def add(a: float, b: float) -> float:\n",
    "    \"\"\"Add two numbers.\"\"\"\n",
    "    return a + b\n",
    "\n",
    "def multiply(a: float, b: float) -> float:\n",
    "    \"\"\"Multiply two numbers.\"\"\"\n",
    "    return a * b\n",
    "\n",
    "def web_search(query: str) -> str:\n",
    "    \"\"\"Search the web for information.\"\"\"\n",
    "    return (\n",
    "        \"Here are the headcounts for each of the FAANG companies in 2024:\\n\"\n",
    "        \"1. **Facebook (Meta)**: 63,317 employees. \\n\"\n",
    "        \"2. **Apple**: 147,000 employees. \\n\"\n",
    "        \"3. **Amazon**: 1,298,000 employees. \\n\"\n",
    "        \"4. **Netflix**: 10,400 employees. \\n\"\n",
    "        \"5. **Google (Alphabet)**: 160,000 employees.\"\n",
    "    )"
   ]
  },
  {
   "cell_type": "code",
   "execution_count": 3,
   "metadata": {},
   "outputs": [],
   "source": [
    "math_agent = create_react_agent(\n",
    "    model=model,\n",
    "    tools=[add, multiply],\n",
    "    name=\"math_expert\",\n",
    "    prompt=\"You are a math expert. Always use one tool at a time.\"\n",
    ")\n",
    "\n",
    "research_agent = create_react_agent(\n",
    "    model=model,\n",
    "    tools=[web_search],\n",
    "    name=\"research_expert\",\n",
    "    prompt=\"You are a research expert with access to web search. Do not do any math.\"\n",
    ")\n",
    "\n",
    "workflow = create_supervisor(\n",
    "    [math_agent, research_agent],\n",
    "    model=model,\n",
    "    prompt=(\n",
    "        \"You are a team supervisor managing a research expert and a math expert.\"\n",
    "        \"For current events, use research_agent. \"\n",
    "        \"For math problems, use math_agent.\"\n",
    "    )\n",
    ")"
   ]
  },
  {
   "cell_type": "code",
   "execution_count": 4,
   "metadata": {},
   "outputs": [
    {
     "data": {
      "text/plain": [
       "{'messages': [HumanMessage(content=\"What's the combined headcount of the FAANG companies in 2024?\", additional_kwargs={}, response_metadata={}, id='bf7fbb39-e02b-4da3-bd68-264e7cb8aceb'),\n",
       "  AIMessage(content='', additional_kwargs={'tool_calls': [{'id': 'call_2uvS66TOxM2hMk1eQluQRmEe', 'function': {'arguments': '{}', 'name': 'transfer_to_research_expert'}, 'type': 'function'}], 'refusal': None}, response_metadata={'token_usage': {'completion_tokens': 15, 'prompt_tokens': 102, 'total_tokens': 117, 'completion_tokens_details': {'accepted_prediction_tokens': 0, 'audio_tokens': 0, 'reasoning_tokens': 0, 'rejected_prediction_tokens': 0}, 'prompt_tokens_details': {'audio_tokens': 0, 'cached_tokens': 0}}, 'model_name': 'gpt-4o-2024-08-06', 'system_fingerprint': 'fp_eb9dce56a8', 'finish_reason': 'tool_calls', 'logprobs': None}, name='supervisor', id='run-42ad59b9-4d51-4609-a694-81541601dd8d-0', tool_calls=[{'name': 'transfer_to_research_expert', 'args': {}, 'id': 'call_2uvS66TOxM2hMk1eQluQRmEe', 'type': 'tool_call'}], usage_metadata={'input_tokens': 102, 'output_tokens': 15, 'total_tokens': 117, 'input_token_details': {'audio': 0, 'cache_read': 0}, 'output_token_details': {'audio': 0, 'reasoning': 0}}),\n",
       "  ToolMessage(content='Successfully transferred to research_expert', name='transfer_to_research_expert', id='0fe4b0ce-90bc-47d3-8788-a8181b744f8c', tool_call_id='call_2uvS66TOxM2hMk1eQluQRmEe'),\n",
       "  AIMessage(content='Here are the headcounts for each of the FAANG companies in 2024:\\n\\n1. **Facebook (Meta)**: 63,317 employees\\n2. **Apple**: 147,000 employees\\n3. **Amazon**: 1,298,000 employees\\n4. **Netflix**: 10,400 employees\\n5. **Google (Alphabet)**: 160,000 employees\\n\\nTo get the combined headcount, simply add these numbers together.', additional_kwargs={'refusal': None}, response_metadata={'token_usage': {'completion_tokens': 98, 'prompt_tokens': 712, 'total_tokens': 810, 'completion_tokens_details': {'accepted_prediction_tokens': 0, 'audio_tokens': 0, 'reasoning_tokens': 0, 'rejected_prediction_tokens': 0}, 'prompt_tokens_details': {'audio_tokens': 0, 'cached_tokens': 0}}, 'model_name': 'gpt-4o-2024-08-06', 'system_fingerprint': 'fp_eb9dce56a8', 'finish_reason': 'stop', 'logprobs': None}, name='research_expert', id='run-eb2a529f-77c8-4567-bca6-5cd765c05f0b-0', usage_metadata={'input_tokens': 712, 'output_tokens': 98, 'total_tokens': 810, 'input_token_details': {'audio': 0, 'cache_read': 0}, 'output_token_details': {'audio': 0, 'reasoning': 0}}),\n",
       "  AIMessage(content='Transferring back to supervisor', additional_kwargs={}, response_metadata={}, name='research_expert', id='7873a603-6d42-445e-9e63-30f921b6531f', tool_calls=[{'name': 'transfer_back_to_supervisor', 'args': {}, 'id': '15c5ad86-98ea-4577-9ff1-7eab02fdcc9e', 'type': 'tool_call'}]),\n",
       "  ToolMessage(content='Successfully transferred back to supervisor', name='transfer_back_to_supervisor', id='67d8625d-e73d-45b6-8001-23128cb6535a', tool_call_id='15c5ad86-98ea-4577-9ff1-7eab02fdcc9e'),\n",
       "  AIMessage(content=\"The headcounts for each of the FAANG companies in 2024 are as follows:\\n\\n1. Facebook (Meta): 63,317 employees\\n2. Apple: 147,000 employees\\n3. Amazon: 1,298,000 employees\\n4. Netflix: 10,400 employees\\n5. Google (Alphabet): 160,000 employees\\n\\nFor the combined headcount, I'll add these numbers together.\", additional_kwargs={'tool_calls': [{'id': 'call_s5yIS9UqYM2h4yooxWdXj5Rb', 'function': {'arguments': '{}', 'name': 'transfer_to_math_expert'}, 'type': 'function'}], 'refusal': None}, response_metadata={'token_usage': {'completion_tokens': 102, 'prompt_tokens': 288, 'total_tokens': 390, 'completion_tokens_details': {'accepted_prediction_tokens': 0, 'audio_tokens': 0, 'reasoning_tokens': 0, 'rejected_prediction_tokens': 0}, 'prompt_tokens_details': {'audio_tokens': 0, 'cached_tokens': 0}}, 'model_name': 'gpt-4o-2024-08-06', 'system_fingerprint': 'fp_eb9dce56a8', 'finish_reason': 'tool_calls', 'logprobs': None}, name='supervisor', id='run-4c0f22eb-d63b-44e4-a13b-dd5656a71248-0', tool_calls=[{'name': 'transfer_to_math_expert', 'args': {}, 'id': 'call_s5yIS9UqYM2h4yooxWdXj5Rb', 'type': 'tool_call'}], usage_metadata={'input_tokens': 288, 'output_tokens': 102, 'total_tokens': 390, 'input_token_details': {'audio': 0, 'cache_read': 0}, 'output_token_details': {'audio': 0, 'reasoning': 0}}),\n",
       "  ToolMessage(content='Successfully transferred to math_expert', name='transfer_to_math_expert', id='17f50be7-078f-44e6-a5bf-18ed07fb2fca', tool_call_id='call_s5yIS9UqYM2h4yooxWdXj5Rb'),\n",
       "  AIMessage(content='The combined headcount of the FAANG companies in 2024 is 1,678,717 employees.', additional_kwargs={'refusal': None}, response_metadata={'token_usage': {'completion_tokens': 24, 'prompt_tokens': 629, 'total_tokens': 653, 'completion_tokens_details': {'accepted_prediction_tokens': 0, 'audio_tokens': 0, 'reasoning_tokens': 0, 'rejected_prediction_tokens': 0}, 'prompt_tokens_details': {'audio_tokens': 0, 'cached_tokens': 0}}, 'model_name': 'gpt-4o-2024-08-06', 'system_fingerprint': 'fp_eb9dce56a8', 'finish_reason': 'stop', 'logprobs': None}, name='math_expert', id='run-44a9884e-da3b-407e-9a62-8d2ba54a1152-0', usage_metadata={'input_tokens': 629, 'output_tokens': 24, 'total_tokens': 653, 'input_token_details': {'audio': 0, 'cache_read': 0}, 'output_token_details': {'audio': 0, 'reasoning': 0}}),\n",
       "  AIMessage(content='Transferring back to supervisor', additional_kwargs={}, response_metadata={}, name='math_expert', id='6c128b31-39fe-446d-af8a-23d653355657', tool_calls=[{'name': 'transfer_back_to_supervisor', 'args': {}, 'id': '6131845e-aa8f-4ca6-89c2-d36d8858618e', 'type': 'tool_call'}]),\n",
       "  ToolMessage(content='Successfully transferred back to supervisor', name='transfer_back_to_supervisor', id='e682b165-db68-4ed7-8bda-3ce2d1a6640e', tool_call_id='6131845e-aa8f-4ca6-89c2-d36d8858618e'),\n",
       "  AIMessage(content='The combined headcount of the FAANG companies in 2024 is 1,678,717 employees.', additional_kwargs={'refusal': None}, response_metadata={'token_usage': {'completion_tokens': 24, 'prompt_tokens': 491, 'total_tokens': 515, 'completion_tokens_details': {'accepted_prediction_tokens': 0, 'audio_tokens': 0, 'reasoning_tokens': 0, 'rejected_prediction_tokens': 0}, 'prompt_tokens_details': {'audio_tokens': 0, 'cached_tokens': 0}}, 'model_name': 'gpt-4o-2024-08-06', 'system_fingerprint': 'fp_eb9dce56a8', 'finish_reason': 'stop', 'logprobs': None}, name='supervisor', id='run-7647252b-3ebf-4833-bb53-3fd5a7d5e59e-0', usage_metadata={'input_tokens': 491, 'output_tokens': 24, 'total_tokens': 515, 'input_token_details': {'audio': 0, 'cache_read': 0}, 'output_token_details': {'audio': 0, 'reasoning': 0}})]}"
      ]
     },
     "execution_count": 4,
     "metadata": {},
     "output_type": "execute_result"
    }
   ],
   "source": [
    "app = workflow.compile()\n",
    "app.invoke({\n",
    "    \"messages\": [\n",
    "        {\n",
    "            \"role\": \"user\",\n",
    "            \"content\": \"What's the combined headcount of the FAANG companies in 2024?\"\n",
    "        }\n",
    "    ]\n",
    "})"
   ]
  }
 ],
 "metadata": {
  "kernelspec": {
   "display_name": "myenv",
   "language": "python",
   "name": "python3"
  },
  "language_info": {
   "codemirror_mode": {
    "name": "ipython",
    "version": 3
   },
   "file_extension": ".py",
   "mimetype": "text/x-python",
   "name": "python",
   "nbconvert_exporter": "python",
   "pygments_lexer": "ipython3",
   "version": "3.12.9"
  }
 },
 "nbformat": 4,
 "nbformat_minor": 2
}
